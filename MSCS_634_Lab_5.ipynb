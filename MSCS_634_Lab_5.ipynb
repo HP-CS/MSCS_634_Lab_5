{
 "cells": [
  {
   "cell_type": "markdown",
   "id": "a3bc6f41",
   "metadata": {},
   "source": [
    "# Lab 5: Clustering Techniques Using DBSCAN and Hierarchical Clustering\n",
    "**Name**: Your Name  \n",
    "**Course**: MSCS 634  \n",
    "**Lab**: 5"
   ]
  },
  {
   "cell_type": "code",
   "execution_count": null,
   "id": "0a275527",
   "metadata": {},
   "outputs": [],
   "source": [
    "from sklearn.datasets import load_wine\n",
    "from sklearn.preprocessing import StandardScaler\n",
    "from sklearn.cluster import AgglomerativeClustering, DBSCAN\n",
    "from sklearn.metrics import silhouette_score, homogeneity_score, completeness_score\n",
    "import matplotlib.pyplot as plt\n",
    "import seaborn as sns\n",
    "import pandas as pd\n",
    "\n",
    "# Load Wine dataset\n",
    "wine = load_wine()\n",
    "X = pd.DataFrame(wine.data, columns=wine.feature_names)\n",
    "scaler = StandardScaler()\n",
    "X_scaled = scaler.fit_transform(X)\n",
    "\n",
    "# Explore dataset\n",
    "print(X.head())\n",
    "print(X.info())\n",
    "print(X.describe())"
   ]
  },
  {
   "cell_type": "code",
   "execution_count": null,
   "id": "c2105fcf",
   "metadata": {},
   "outputs": [],
   "source": [
    "# Hierarchical Clustering\n",
    "agg_clustering = AgglomerativeClustering(n_clusters=3)\n",
    "agg_labels = agg_clustering.fit_predict(X_scaled)\n",
    "\n",
    "# Visualize\n",
    "plt.figure(figsize=(8,5))\n",
    "sns.scatterplot(x=X_scaled[:,0], y=X_scaled[:,1], hue=agg_labels, palette='Set1')\n",
    "plt.title('Agglomerative Hierarchical Clustering')\n",
    "plt.show()\n",
    "\n",
    "# Silhouette Score\n",
    "silhouette_agg = silhouette_score(X_scaled, agg_labels)\n",
    "print('Silhouette Score (Hierarchical):', silhouette_agg)"
   ]
  },
  {
   "cell_type": "code",
   "execution_count": null,
   "id": "1a4d3a06",
   "metadata": {},
   "outputs": [],
   "source": [
    "# DBSCAN Clustering\n",
    "dbscan = DBSCAN(eps=3.0, min_samples=3)\n",
    "dbscan_labels = dbscan.fit_predict(X_scaled)\n",
    "\n",
    "# Visualize\n",
    "plt.figure(figsize=(8,5))\n",
    "sns.scatterplot(x=X_scaled[:,0], y=X_scaled[:,1], hue=dbscan_labels, palette='Set1')\n",
    "plt.title('DBSCAN Clustering')\n",
    "plt.show()\n",
    "\n",
    "# Metrics\n",
    "silhouette_dbscan = silhouette_score(X_scaled, dbscan_labels)\n",
    "homogeneity_dbscan = homogeneity_score(wine.target, dbscan_labels)\n",
    "completeness_dbscan = completeness_score(wine.target, dbscan_labels)\n",
    "\n",
    "print('Silhouette Score (DBSCAN):', silhouette_dbscan)\n",
    "print('Homogeneity Score (DBSCAN):', homogeneity_dbscan)\n",
    "print('Completeness Score (DBSCAN):', completeness_dbscan)"
   ]
  },
  {
   "cell_type": "markdown",
   "id": "81f7aac7",
   "metadata": {},
   "source": [
    "## Analysis and Insights\n",
    "- Hierarchical Clustering produced clear and compact clusters.\n",
    "- DBSCAN required parameter tuning and detected two clusters with some noise points.\n",
    "- Agglomerative Hierarchical clustering worked better for this dataset."
   ]
  }
 ],
 "metadata": {},
 "nbformat": 4,
 "nbformat_minor": 5
}
